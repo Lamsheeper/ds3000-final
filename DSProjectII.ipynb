{
 "cells": [
  {
   "cell_type": "markdown",
   "id": "be885a1e-f78d-4aa1-bb86-b79b2ea6f531",
   "metadata": {},
   "source": [
    "## Phase II: Data Curation, Exploratory Analysis and Plotting\n",
    "### How Has Nutritional Value in Processed Food Changed Over Time?\n",
    "\n",
    "#### DS 3000\n",
    "#### Name: Steven Yu, Jason Lo, Jennifer Nguyen"
   ]
  },
  {
   "cell_type": "markdown",
   "id": "c23243f2-1ec6-4c76-8291-fc5b2058588e",
   "metadata": {},
   "source": [
    "# Phase II: Data Curation, Exploratory Analysis and Plotting (5\\%)\n",
    "\n",
    "### Due (Each Group): October 26\n",
    "\n",
    "Each **project group** will submit a single **jupyter notebook** which contains:\n",
    "\n",
    "1. (1\\%) Expresses the central motivation of the project and explains the (at least) two key questions to be explored. Gives a summary of the data processing pipeline so a technical expert can easily follow along.\n",
    "2. (2\\%) Obtains, cleans, and merges all data sources involved in the project.\n",
    "3. (2\\%) Builds at least two visualizations (graphs/plots) from the data which help to understand or answer the questions of interest. These visualizations will be graded based on how much information they can effectively communicate to readers. Please make sure your visualization are sufficiently distinct from each other."
   ]
  },
  {
   "cell_type": "markdown",
   "id": "6e4aae57-49df-4952-a030-1aea0eb7445f",
   "metadata": {},
   "source": [
    "## Introduction\n",
    "\n",
    "### Central Motivation\n",
    "\n",
    "How have the nutritional qualities of packaged foods evolved over the past two decades? Our group chose to focus on breakfast cereals, a staple of modern diets, to explore how their nutritional composition has changed over time, particularly between the United States and the United Kingdom. By analyzing these trends, we aim to uncover whether levels of sugar, salt, and fat (per 100g) have increased or decreased and whether notable differences exist between regions. This investigation offers insights into how the food industry adapts to consumer health preferences and broader market trends, while also revealing potential regional disparities in nutritional reformulation.\n",
    "\n",
    "### Two Key Questions\n",
    "\n",
    "- Are sugars per 100g, fat per 100g, and salt per 100g in US and UK breakfast cereals trending downward/upward over the last decade?\n",
    "- Is there a significant difference in nutritional value trends between US and UK breakfast cereals?\n",
    "\n",
    "### Data Processing Pipeline\n",
    "\n",
    "To address these questions, we use data from OpenFoodFacts, a global open-source database containing detailed product information - including ingredients, macronutrient profiles, additives, and labeling—from millions of packaged foods worldwide. We focus specifically on products categorized as breakfast cereals in the United States and United Kingdom, using the OpenFoodFacts API to collect relevant records.\n",
    "\n",
    "For each product, we extract attributes such as the year of entry (creation or last modification), nutritional values (sugar, salt, fat, etc.), and label information. The collected data are compiled into a Pandas DataFrame for cleaning and transformation, and then exported as a CSV file for further statistical analysis and visualization."
   ]
  },
  {
   "cell_type": "code",
   "execution_count": 1,
   "id": "137661d0-0122-4742-ad44-37414dd6f558",
   "metadata": {},
   "outputs": [
    {
     "name": "stdout",
     "output_type": "stream",
     "text": [
      "Total matching products for united-states (reported by API): 3287\n",
      "Total matching products for united-kingdom (reported by API): 1693\n"
     ]
    },
    {
     "data": {
      "text/html": [
       "<div>\n",
       "<style scoped>\n",
       "    .dataframe tbody tr th:only-of-type {\n",
       "        vertical-align: middle;\n",
       "    }\n",
       "\n",
       "    .dataframe tbody tr th {\n",
       "        vertical-align: top;\n",
       "    }\n",
       "\n",
       "    .dataframe thead th {\n",
       "        text-align: right;\n",
       "    }\n",
       "</style>\n",
       "<table border=\"1\" class=\"dataframe\">\n",
       "  <thead>\n",
       "    <tr style=\"text-align: right;\">\n",
       "      <th></th>\n",
       "      <th>code</th>\n",
       "      <th>product_name</th>\n",
       "      <th>created_t</th>\n",
       "      <th>last_modified_t</th>\n",
       "      <th>country</th>\n",
       "      <th>energy_kcal_100g</th>\n",
       "      <th>sugars_100g</th>\n",
       "      <th>fat_100g</th>\n",
       "      <th>saturated_fat_100g</th>\n",
       "      <th>salt_100g</th>\n",
       "    </tr>\n",
       "  </thead>\n",
       "  <tbody>\n",
       "    <tr>\n",
       "      <th>0</th>\n",
       "      <td>0705599013430</td>\n",
       "      <td>Oatmeal Power Cup Maple &amp; Brown Sugar</td>\n",
       "      <td>2020-04-23</td>\n",
       "      <td>2025-10-23</td>\n",
       "      <td>united-states</td>\n",
       "      <td>383.0</td>\n",
       "      <td>20.00</td>\n",
       "      <td>5.00</td>\n",
       "      <td>0.833</td>\n",
       "      <td>0.833</td>\n",
       "    </tr>\n",
       "    <tr>\n",
       "      <th>1</th>\n",
       "      <td>0819562023101</td>\n",
       "      <td>nut granola CINNAMON PECAN sweet &amp; crunchy</td>\n",
       "      <td>2021-07-19</td>\n",
       "      <td>2025-10-23</td>\n",
       "      <td>united-states</td>\n",
       "      <td>533.0</td>\n",
       "      <td>3.33</td>\n",
       "      <td>53.30</td>\n",
       "      <td>16.700</td>\n",
       "      <td>0.208</td>\n",
       "    </tr>\n",
       "    <tr>\n",
       "      <th>2</th>\n",
       "      <td>0810589031247</td>\n",
       "      <td>Vanilla Chocolate Chip Ancient Grain Granola</td>\n",
       "      <td>2021-07-17</td>\n",
       "      <td>2025-10-23</td>\n",
       "      <td>united-states</td>\n",
       "      <td>433.0</td>\n",
       "      <td>20.00</td>\n",
       "      <td>20.00</td>\n",
       "      <td>11.700</td>\n",
       "      <td>0.958</td>\n",
       "    </tr>\n",
       "    <tr>\n",
       "      <th>3</th>\n",
       "      <td>0038000198076</td>\n",
       "      <td>Choco Krispis</td>\n",
       "      <td>2021-08-02</td>\n",
       "      <td>2025-10-23</td>\n",
       "      <td>united-states</td>\n",
       "      <td>381.0</td>\n",
       "      <td>52.40</td>\n",
       "      <td>2.38</td>\n",
       "      <td>NaN</td>\n",
       "      <td>1.490</td>\n",
       "    </tr>\n",
       "    <tr>\n",
       "      <th>4</th>\n",
       "      <td>0602652171864</td>\n",
       "      <td>Oats &amp; Honey Granola with Toasted Coconut</td>\n",
       "      <td>2017-03-09</td>\n",
       "      <td>2025-10-23</td>\n",
       "      <td>united-states</td>\n",
       "      <td>367.0</td>\n",
       "      <td>16.70</td>\n",
       "      <td>8.33</td>\n",
       "      <td>3.330</td>\n",
       "      <td>0.125</td>\n",
       "    </tr>\n",
       "  </tbody>\n",
       "</table>\n",
       "</div>"
      ],
      "text/plain": [
       "            code                                  product_name   created_t  \\\n",
       "0  0705599013430         Oatmeal Power Cup Maple & Brown Sugar  2020-04-23   \n",
       "1  0819562023101    nut granola CINNAMON PECAN sweet & crunchy  2021-07-19   \n",
       "2  0810589031247  Vanilla Chocolate Chip Ancient Grain Granola  2021-07-17   \n",
       "3  0038000198076                                 Choco Krispis  2021-08-02   \n",
       "4  0602652171864     Oats & Honey Granola with Toasted Coconut  2017-03-09   \n",
       "\n",
       "  last_modified_t        country  energy_kcal_100g  sugars_100g  fat_100g  \\\n",
       "0      2025-10-23  united-states             383.0        20.00      5.00   \n",
       "1      2025-10-23  united-states             533.0         3.33     53.30   \n",
       "2      2025-10-23  united-states             433.0        20.00     20.00   \n",
       "3      2025-10-23  united-states             381.0        52.40      2.38   \n",
       "4      2025-10-23  united-states             367.0        16.70      8.33   \n",
       "\n",
       "   saturated_fat_100g  salt_100g  \n",
       "0               0.833      0.833  \n",
       "1              16.700      0.208  \n",
       "2              11.700      0.958  \n",
       "3                 NaN      1.490  \n",
       "4               3.330      0.125  "
      ]
     },
     "execution_count": 1,
     "metadata": {},
     "output_type": "execute_result"
    }
   ],
   "source": [
    "import requests\n",
    "import pandas as pd\n",
    "import time\n",
    "from datetime import datetime, timezone\n",
    "\n",
    "COUNTRY_SLUGS = [\"united-states\",\"united-kingdom\"]\n",
    "CATEGORY_SLUG = \"breakfast-cereals\"\n",
    "PAGE_SIZE = 250\n",
    "MAX_PAGES = 10\n",
    "SLEEP_BETWEEN_CALLS = 0.2\n",
    "\n",
    "BASE_URL = \"https://world.openfoodfacts.org/api/v2/search\"\n",
    "\n",
    "FIELDS = [\n",
    "    \"code\",\"product_name\",\"brands\",\"countries_tags\",\"categories_tags\",\n",
    "    \"labels_tags\",\"additives_tags\",\"nutriscore_grade\",\"nova_group\",\n",
    "    \"created_t\",\"last_modified_t\",\"categories\",\"countries\",\"nutriments\"\n",
    "]\n",
    "\n",
    "HEADERS = {\"User-Agent\": \"DS3000-OpenFoodFacts-Project (rough-draft)\"}\n",
    "\n",
    "\n",
    "def fetch_page(page, country_slug):\n",
    "    params = {\n",
    "        \"categories_tags_en\": CATEGORY_SLUG,\n",
    "        \"countries_tags_en\": country_slug,\n",
    "        \"page\": page,\n",
    "        \"page_size\": PAGE_SIZE,\n",
    "        \"fields\": \",\".join(FIELDS),\n",
    "        \"sort_by\": \"last_modified_t\"\n",
    "    }\n",
    "    r = requests.get(BASE_URL, params=params, headers=HEADERS, timeout=30)\n",
    "    r.raise_for_status()\n",
    "    return r.json()\n",
    "\n",
    "\n",
    "\n",
    "def extract_float(nutriments, key):\n",
    "    '''\n",
    "    Helper function to extract a float from nutriments dictionary by first checking for the key, then converting to float if possible.\n",
    "\n",
    "    Args:\n",
    "        nutriments (dict): Nutriments\n",
    "        key (str): Key\n",
    "\n",
    "    Returns:\n",
    "        float: Float\n",
    "    '''\n",
    "    if not isinstance(nutriments, dict):\n",
    "        return None\n",
    "    val = nutriments.get(key)\n",
    "    try:\n",
    "        return float(val)\n",
    "    except (TypeError, ValueError):\n",
    "        return None\n",
    "\n",
    "def clean_date(timestamp):\n",
    "    if timestamp is None:\n",
    "        return None\n",
    "    try:\n",
    "        ts = float(timestamp)\n",
    "        return datetime.fromtimestamp(ts, tz=timezone.utc).date().isoformat()\n",
    "    except Exception:\n",
    "        try:\n",
    "            return pd.to_datetime(timestamp, utc=True).date().isoformat()\n",
    "        except Exception:\n",
    "            return None\n",
    "\n",
    "def collect_products(max_pages=MAX_PAGES, country_slugs=COUNTRY_SLUGS):\n",
    "    rows = []\n",
    "    for country_slug in country_slugs:\n",
    "        total = None\n",
    "        for p in range(1, max_pages + 1):\n",
    "            data = fetch_page(p, country_slug)\n",
    "            if total is None:\n",
    "                total = data.get(\"count\")\n",
    "                print(f\"Total matching products for {country_slug} (reported by API): {total}\")\n",
    "            for prod in data.get(\"products\", []) or []:\n",
    "                nutr = prod.get(\"nutriments\", {}) or {}\n",
    "                # Prefer kcal if provided; otherwise convert kJ -> kcal\n",
    "                energy_kcal = extract_float(nutr, \"energy-kcal_100g\")\n",
    "                if energy_kcal is None:\n",
    "                    energy_kj = extract_float(nutr, \"energy_100g\")\n",
    "                    energy_kcal = (energy_kj / 4.184) if energy_kj is not None else None\n",
    "                rows.append({\n",
    "                    \"code\": prod.get(\"code\"),\n",
    "                    \"product_name\": prod.get(\"product_name\"),\n",
    "                    \"created_t\": clean_date(prod.get(\"created_t\")),\n",
    "                    \"last_modified_t\": clean_date(prod.get(\"last_modified_t\")),\n",
    "                    \"country\": country_slug,\n",
    "                    # Nutrition per 100g from \"nutriments\"\n",
    "                    \"energy_kcal_100g\": energy_kcal,\n",
    "                    \"sugars_100g\": extract_float(nutr, \"sugars_100g\"),\n",
    "                    \"fat_100g\": extract_float(nutr, \"fat_100g\"),\n",
    "                    \"saturated_fat_100g\": extract_float(nutr, \"saturated-fat_100g\"),\n",
    "                    \"salt_100g\": extract_float(nutr, \"salt_100g\"),\n",
    "                })\n",
    "            time.sleep(SLEEP_BETWEEN_CALLS)\n",
    "    return pd.DataFrame(rows)\n",
    "\n",
    "food_df = collect_products()\n",
    "# Drop rows missing key nutriments\n",
    "food_df = food_df.dropna(subset=[\"sugars_100g\", \"fat_100g\"]).reset_index(drop=True)\n",
    "food_df.to_csv(\"food_data.csv\", index=False)\n",
    "food_df.head()"
   ]
  },
  {
   "cell_type": "code",
   "execution_count": 2,
   "id": "d29a4c0b-62f7-401d-872f-1144c27a6eef",
   "metadata": {},
   "outputs": [],
   "source": [
    "import plotly.express as px"
   ]
  },
  {
   "cell_type": "code",
   "execution_count": 3,
   "id": "bfc0cc53-c30f-491b-9452-8257852704b2",
   "metadata": {},
   "outputs": [
    {
     "data": {
      "text/html": [
       "<iframe\n",
       "    scrolling=\"no\"\n",
       "    width=\"100%\"\n",
       "    height=\"545px\"\n",
       "    src=\"iframe_figures/figure_3.html\"\n",
       "    frameborder=\"0\"\n",
       "    allowfullscreen\n",
       "></iframe>\n"
      ]
     },
     "metadata": {},
     "output_type": "display_data"
    }
   ],
   "source": [
    "fig=px.scatter(data_frame=food_df, x='created_t', y='sugars_100g', color='country', hover_data=['product_name'])\n",
    "fig.update_yaxes(range=[0, 100])\n",
    "fig.show('iframe')"
   ]
  },
  {
   "cell_type": "markdown",
   "id": "3c122918-bad9-4ab3-aa9a-f56102b02596",
   "metadata": {},
   "source": [
    "Plot 1 - Line Graph: Shows the sugars per 100g of all cereal from both the UK and US. X-axis is the date of when they were created."
   ]
  },
  {
   "cell_type": "code",
   "execution_count": 4,
   "id": "9dc96457-4ce3-4b5a-9316-7eb0d4e13a1c",
   "metadata": {},
   "outputs": [
    {
     "data": {
      "application/vnd.plotly.v1+json": {
       "config": {
        "plotlyServerURL": "https://plot.ly"
       },
       "data": [
        {
         "bingroup": "x",
         "histnorm": "percent",
         "hovertemplate": "country_label=US<br>fat_100g=%{x}<br>percent=%{y}<extra></extra>",
         "legendgroup": "US",
         "marker": {
          "color": "blue",
          "opacity": 0.5,
          "pattern": {
           "shape": ""
          }
         },
         "name": "US",
         "nbinsx": 30,
         "orientation": "v",
         "showlegend": true,
         "type": "histogram",
         "x": {
          "bdata": "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",
          "dtype": "f8"
         },
         "xaxis": "x",
         "yaxis": "y"
        },
        {
         "bingroup": "x",
         "histnorm": "percent",
         "hovertemplate": "country_label=UK<br>fat_100g=%{x}<br>percent=%{y}<extra></extra>",
         "legendgroup": "UK",
         "marker": {
          "color": "red",
          "opacity": 0.5,
          "pattern": {
           "shape": ""
          }
         },
         "name": "UK",
         "nbinsx": 30,
         "orientation": "v",
         "showlegend": true,
         "type": "histogram",
         "x": {
          "bdata": "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",
          "dtype": "f8"
         },
         "xaxis": "x",
         "yaxis": "y"
        }
       ],
       "layout": {
        "barmode": "overlay",
        "legend": {
         "title": {
          "text": "Country"
         },
         "tracegroupgap": 0
        },
        "margin": {
         "t": 60
        },
        "template": {
         "data": {
          "bar": [
           {
            "error_x": {
             "color": "#2a3f5f"
            },
            "error_y": {
             "color": "#2a3f5f"
            },
            "marker": {
             "line": {
              "color": "#E5ECF6",
              "width": 0.5
             },
             "pattern": {
              "fillmode": "overlay",
              "size": 10,
              "solidity": 0.2
             }
            },
            "type": "bar"
           }
          ],
          "barpolar": [
           {
            "marker": {
             "line": {
              "color": "#E5ECF6",
              "width": 0.5
             },
             "pattern": {
              "fillmode": "overlay",
              "size": 10,
              "solidity": 0.2
             }
            },
            "type": "barpolar"
           }
          ],
          "carpet": [
           {
            "aaxis": {
             "endlinecolor": "#2a3f5f",
             "gridcolor": "white",
             "linecolor": "white",
             "minorgridcolor": "white",
             "startlinecolor": "#2a3f5f"
            },
            "baxis": {
             "endlinecolor": "#2a3f5f",
             "gridcolor": "white",
             "linecolor": "white",
             "minorgridcolor": "white",
             "startlinecolor": "#2a3f5f"
            },
            "type": "carpet"
           }
          ],
          "choropleth": [
           {
            "colorbar": {
             "outlinewidth": 0,
             "ticks": ""
            },
            "type": "choropleth"
           }
          ],
          "contour": [
           {
            "colorbar": {
             "outlinewidth": 0,
             "ticks": ""
            },
            "colorscale": [
             [
              0,
              "#0d0887"
             ],
             [
              0.1111111111111111,
              "#46039f"
             ],
             [
              0.2222222222222222,
              "#7201a8"
             ],
             [
              0.3333333333333333,
              "#9c179e"
             ],
             [
              0.4444444444444444,
              "#bd3786"
             ],
             [
              0.5555555555555556,
              "#d8576b"
             ],
             [
              0.6666666666666666,
              "#ed7953"
             ],
             [
              0.7777777777777778,
              "#fb9f3a"
             ],
             [
              0.8888888888888888,
              "#fdca26"
             ],
             [
              1,
              "#f0f921"
             ]
            ],
            "type": "contour"
           }
          ],
          "contourcarpet": [
           {
            "colorbar": {
             "outlinewidth": 0,
             "ticks": ""
            },
            "type": "contourcarpet"
           }
          ],
          "heatmap": [
           {
            "colorbar": {
             "outlinewidth": 0,
             "ticks": ""
            },
            "colorscale": [
             [
              0,
              "#0d0887"
             ],
             [
              0.1111111111111111,
              "#46039f"
             ],
             [
              0.2222222222222222,
              "#7201a8"
             ],
             [
              0.3333333333333333,
              "#9c179e"
             ],
             [
              0.4444444444444444,
              "#bd3786"
             ],
             [
              0.5555555555555556,
              "#d8576b"
             ],
             [
              0.6666666666666666,
              "#ed7953"
             ],
             [
              0.7777777777777778,
              "#fb9f3a"
             ],
             [
              0.8888888888888888,
              "#fdca26"
             ],
             [
              1,
              "#f0f921"
             ]
            ],
            "type": "heatmap"
           }
          ],
          "histogram": [
           {
            "marker": {
             "pattern": {
              "fillmode": "overlay",
              "size": 10,
              "solidity": 0.2
             }
            },
            "type": "histogram"
           }
          ],
          "histogram2d": [
           {
            "colorbar": {
             "outlinewidth": 0,
             "ticks": ""
            },
            "colorscale": [
             [
              0,
              "#0d0887"
             ],
             [
              0.1111111111111111,
              "#46039f"
             ],
             [
              0.2222222222222222,
              "#7201a8"
             ],
             [
              0.3333333333333333,
              "#9c179e"
             ],
             [
              0.4444444444444444,
              "#bd3786"
             ],
             [
              0.5555555555555556,
              "#d8576b"
             ],
             [
              0.6666666666666666,
              "#ed7953"
             ],
             [
              0.7777777777777778,
              "#fb9f3a"
             ],
             [
              0.8888888888888888,
              "#fdca26"
             ],
             [
              1,
              "#f0f921"
             ]
            ],
            "type": "histogram2d"
           }
          ],
          "histogram2dcontour": [
           {
            "colorbar": {
             "outlinewidth": 0,
             "ticks": ""
            },
            "colorscale": [
             [
              0,
              "#0d0887"
             ],
             [
              0.1111111111111111,
              "#46039f"
             ],
             [
              0.2222222222222222,
              "#7201a8"
             ],
             [
              0.3333333333333333,
              "#9c179e"
             ],
             [
              0.4444444444444444,
              "#bd3786"
             ],
             [
              0.5555555555555556,
              "#d8576b"
             ],
             [
              0.6666666666666666,
              "#ed7953"
             ],
             [
              0.7777777777777778,
              "#fb9f3a"
             ],
             [
              0.8888888888888888,
              "#fdca26"
             ],
             [
              1,
              "#f0f921"
             ]
            ],
            "type": "histogram2dcontour"
           }
          ],
          "mesh3d": [
           {
            "colorbar": {
             "outlinewidth": 0,
             "ticks": ""
            },
            "type": "mesh3d"
           }
          ],
          "parcoords": [
           {
            "line": {
             "colorbar": {
              "outlinewidth": 0,
              "ticks": ""
             }
            },
            "type": "parcoords"
           }
          ],
          "pie": [
           {
            "automargin": true,
            "type": "pie"
           }
          ],
          "scatter": [
           {
            "fillpattern": {
             "fillmode": "overlay",
             "size": 10,
             "solidity": 0.2
            },
            "type": "scatter"
           }
          ],
          "scatter3d": [
           {
            "line": {
             "colorbar": {
              "outlinewidth": 0,
              "ticks": ""
             }
            },
            "marker": {
             "colorbar": {
              "outlinewidth": 0,
              "ticks": ""
             }
            },
            "type": "scatter3d"
           }
          ],
          "scattercarpet": [
           {
            "marker": {
             "colorbar": {
              "outlinewidth": 0,
              "ticks": ""
             }
            },
            "type": "scattercarpet"
           }
          ],
          "scattergeo": [
           {
            "marker": {
             "colorbar": {
              "outlinewidth": 0,
              "ticks": ""
             }
            },
            "type": "scattergeo"
           }
          ],
          "scattergl": [
           {
            "marker": {
             "colorbar": {
              "outlinewidth": 0,
              "ticks": ""
             }
            },
            "type": "scattergl"
           }
          ],
          "scattermap": [
           {
            "marker": {
             "colorbar": {
              "outlinewidth": 0,
              "ticks": ""
             }
            },
            "type": "scattermap"
           }
          ],
          "scattermapbox": [
           {
            "marker": {
             "colorbar": {
              "outlinewidth": 0,
              "ticks": ""
             }
            },
            "type": "scattermapbox"
           }
          ],
          "scatterpolar": [
           {
            "marker": {
             "colorbar": {
              "outlinewidth": 0,
              "ticks": ""
             }
            },
            "type": "scatterpolar"
           }
          ],
          "scatterpolargl": [
           {
            "marker": {
             "colorbar": {
              "outlinewidth": 0,
              "ticks": ""
             }
            },
            "type": "scatterpolargl"
           }
          ],
          "scatterternary": [
           {
            "marker": {
             "colorbar": {
              "outlinewidth": 0,
              "ticks": ""
             }
            },
            "type": "scatterternary"
           }
          ],
          "surface": [
           {
            "colorbar": {
             "outlinewidth": 0,
             "ticks": ""
            },
            "colorscale": [
             [
              0,
              "#0d0887"
             ],
             [
              0.1111111111111111,
              "#46039f"
             ],
             [
              0.2222222222222222,
              "#7201a8"
             ],
             [
              0.3333333333333333,
              "#9c179e"
             ],
             [
              0.4444444444444444,
              "#bd3786"
             ],
             [
              0.5555555555555556,
              "#d8576b"
             ],
             [
              0.6666666666666666,
              "#ed7953"
             ],
             [
              0.7777777777777778,
              "#fb9f3a"
             ],
             [
              0.8888888888888888,
              "#fdca26"
             ],
             [
              1,
              "#f0f921"
             ]
            ],
            "type": "surface"
           }
          ],
          "table": [
           {
            "cells": {
             "fill": {
              "color": "#EBF0F8"
             },
             "line": {
              "color": "white"
             }
            },
            "header": {
             "fill": {
              "color": "#C8D4E3"
             },
             "line": {
              "color": "white"
             }
            },
            "type": "table"
           }
          ]
         },
         "layout": {
          "annotationdefaults": {
           "arrowcolor": "#2a3f5f",
           "arrowhead": 0,
           "arrowwidth": 1
          },
          "autotypenumbers": "strict",
          "coloraxis": {
           "colorbar": {
            "outlinewidth": 0,
            "ticks": ""
           }
          },
          "colorscale": {
           "diverging": [
            [
             0,
             "#8e0152"
            ],
            [
             0.1,
             "#c51b7d"
            ],
            [
             0.2,
             "#de77ae"
            ],
            [
             0.3,
             "#f1b6da"
            ],
            [
             0.4,
             "#fde0ef"
            ],
            [
             0.5,
             "#f7f7f7"
            ],
            [
             0.6,
             "#e6f5d0"
            ],
            [
             0.7,
             "#b8e186"
            ],
            [
             0.8,
             "#7fbc41"
            ],
            [
             0.9,
             "#4d9221"
            ],
            [
             1,
             "#276419"
            ]
           ],
           "sequential": [
            [
             0,
             "#0d0887"
            ],
            [
             0.1111111111111111,
             "#46039f"
            ],
            [
             0.2222222222222222,
             "#7201a8"
            ],
            [
             0.3333333333333333,
             "#9c179e"
            ],
            [
             0.4444444444444444,
             "#bd3786"
            ],
            [
             0.5555555555555556,
             "#d8576b"
            ],
            [
             0.6666666666666666,
             "#ed7953"
            ],
            [
             0.7777777777777778,
             "#fb9f3a"
            ],
            [
             0.8888888888888888,
             "#fdca26"
            ],
            [
             1,
             "#f0f921"
            ]
           ],
           "sequentialminus": [
            [
             0,
             "#0d0887"
            ],
            [
             0.1111111111111111,
             "#46039f"
            ],
            [
             0.2222222222222222,
             "#7201a8"
            ],
            [
             0.3333333333333333,
             "#9c179e"
            ],
            [
             0.4444444444444444,
             "#bd3786"
            ],
            [
             0.5555555555555556,
             "#d8576b"
            ],
            [
             0.6666666666666666,
             "#ed7953"
            ],
            [
             0.7777777777777778,
             "#fb9f3a"
            ],
            [
             0.8888888888888888,
             "#fdca26"
            ],
            [
             1,
             "#f0f921"
            ]
           ]
          },
          "colorway": [
           "#636efa",
           "#EF553B",
           "#00cc96",
           "#ab63fa",
           "#FFA15A",
           "#19d3f3",
           "#FF6692",
           "#B6E880",
           "#FF97FF",
           "#FECB52"
          ],
          "font": {
           "color": "#2a3f5f"
          },
          "geo": {
           "bgcolor": "white",
           "lakecolor": "white",
           "landcolor": "#E5ECF6",
           "showlakes": true,
           "showland": true,
           "subunitcolor": "white"
          },
          "hoverlabel": {
           "align": "left"
          },
          "hovermode": "closest",
          "mapbox": {
           "style": "light"
          },
          "paper_bgcolor": "white",
          "plot_bgcolor": "#E5ECF6",
          "polar": {
           "angularaxis": {
            "gridcolor": "white",
            "linecolor": "white",
            "ticks": ""
           },
           "bgcolor": "#E5ECF6",
           "radialaxis": {
            "gridcolor": "white",
            "linecolor": "white",
            "ticks": ""
           }
          },
          "scene": {
           "xaxis": {
            "backgroundcolor": "#E5ECF6",
            "gridcolor": "white",
            "gridwidth": 2,
            "linecolor": "white",
            "showbackground": true,
            "ticks": "",
            "zerolinecolor": "white"
           },
           "yaxis": {
            "backgroundcolor": "#E5ECF6",
            "gridcolor": "white",
            "gridwidth": 2,
            "linecolor": "white",
            "showbackground": true,
            "ticks": "",
            "zerolinecolor": "white"
           },
           "zaxis": {
            "backgroundcolor": "#E5ECF6",
            "gridcolor": "white",
            "gridwidth": 2,
            "linecolor": "white",
            "showbackground": true,
            "ticks": "",
            "zerolinecolor": "white"
           }
          },
          "shapedefaults": {
           "line": {
            "color": "#2a3f5f"
           }
          },
          "ternary": {
           "aaxis": {
            "gridcolor": "white",
            "linecolor": "white",
            "ticks": ""
           },
           "baxis": {
            "gridcolor": "white",
            "linecolor": "white",
            "ticks": ""
           },
           "bgcolor": "#E5ECF6",
           "caxis": {
            "gridcolor": "white",
            "linecolor": "white",
            "ticks": ""
           }
          },
          "title": {
           "x": 0.05
          },
          "xaxis": {
           "automargin": true,
           "gridcolor": "white",
           "linecolor": "white",
           "ticks": "",
           "title": {
            "standoff": 15
           },
           "zerolinecolor": "white",
           "zerolinewidth": 2
          },
          "yaxis": {
           "automargin": true,
           "gridcolor": "white",
           "linecolor": "white",
           "ticks": "",
           "title": {
            "standoff": 15
           },
           "zerolinecolor": "white",
           "zerolinewidth": 2
          }
         }
        },
        "xaxis": {
         "anchor": "y",
         "domain": [
          0,
          1
         ],
         "title": {
          "text": "Fat per 100g"
         }
        },
        "yaxis": {
         "anchor": "x",
         "domain": [
          0,
          1
         ],
         "ticksuffix": "%",
         "title": {
          "text": "Percent"
         }
        }
       }
      },
      "image/png": "[encoded data removed]"
     },
     "metadata": {},
     "output_type": "display_data"
    }
   ],
   "source": [
    "df = food_df[food_df['country'].isin(['united-states','united-kingdom'])].copy()\n",
    "df = df[df['fat_100g'].between(0, 100, inclusive='both')]\n",
    "df['country_label'] = df['country'].map({'united-states':'US', 'united-kingdom':'UK'})\n",
    "\n",
    "fig = px.histogram(\n",
    "    df, x='fat_100g', color='country_label',\n",
    "    nbins=30, opacity=0.5, histnorm='percent'\n",
    ")\n",
    "fig.update_layout(barmode='overlay', xaxis_title='Fat per 100g', yaxis_title='Percent', legend_title='Country')\n",
    "fig.update_yaxes(ticksuffix='%')\n",
    "fig.for_each_trace(lambda t: t.update(marker_color={'US':'blue','UK':'red'}[t.name]))\n",
    "fig.show()"
   ]
  },
  {
   "cell_type": "markdown",
   "id": "1ba11019-87b8-47b1-a1d6-f6ce36b8a0fa",
   "metadata": {},
   "source": [
    "Plot 2 - Histogram: Shows distribution of the amount of fat in the cereal with the y-axis being the percentages for each country."
   ]
  }
 ],
 "metadata": {
  "kernelspec": {
   "display_name": "Python 3 (ipykernel)",
   "language": "python",
   "name": "python3"
  },
  "language_info": {
   "codemirror_mode": {
    "name": "ipython",
    "version": 3
   },
   "file_extension": ".py",
   "mimetype": "text/x-python",
   "name": "python",
   "nbconvert_exporter": "python",
   "pygments_lexer": "ipython3",
   "version": "3.13.5"
  }
 },
 "nbformat": 4,
 "nbformat_minor": 5
}
